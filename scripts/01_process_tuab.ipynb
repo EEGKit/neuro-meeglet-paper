{
 "cells": [
  {
   "cell_type": "markdown",
   "metadata": {},
   "source": [
    "# Process TUAB\n",
    "> Preprocessing and feature computation for the TUAB dataset"
   ]
  },
  {
   "cell_type": "code",
   "execution_count": 1,
   "metadata": {},
   "outputs": [],
   "source": [
    "import pandas as pd\n",
    "\n",
    "from pathlib import Path\n",
    "from functools import partial\n",
    "from dask.distributed import Client, LocalCluster, fire_and_forget\n",
    "from dask_jobqueue import LSFCluster\n",
    "from fastcore.transform import Pipeline\n",
    "\n",
    "import core.preprocessing as proc\n",
    "from core.config import cfg"
   ]
  },
  {
   "cell_type": "code",
   "execution_count": 2,
   "metadata": {},
   "outputs": [],
   "source": [
    "# Load participants tsv and exclude replication subjects\n",
    "df_participants = pd.read_csv(Path(cfg[\"DATASETS\"][\"TUAB\"][\"bids_root\"]) / 'participants.tsv', sep='\\t')\n",
    "\n",
    "# Add information form participants_extra file\n",
    "df_participants_extra = pd.read_csv(Path(cfg[\"DATASETS\"][\"TUAB\"][\"bids_root\"]) / 'participants_extra.csv').iloc[:, 1:]\n",
    "df_participants_extra['participant_id'] = ('sub-' + df_participants_extra.participant_id.astype(str).str.zfill(4))\n",
    "df_participants = df_participants_extra.query('session == 1').reset_index().iloc[:, 1:].merge(df_participants, on='participant_id')\n",
    "df_participants = df_participants.query(\"not pathological\")  # exclude pathological samples\n",
    "df_participants = df_participants.loc[~df_participants.participant_id.isin(['sub-0388', 'sub-0766', 'sub-2289'])]  # exclude bad subjects\n",
    "\n",
    "subjects = df_participants.participant_id"
   ]
  },
  {
   "cell_type": "code",
   "execution_count": 3,
   "metadata": {},
   "outputs": [],
   "source": [
    "# Define channel categories\n",
    "eeg_channels = [\n",
    "    'Fp1', 'Fp2', 'F3', 'F4', 'C3', 'C4', 'P3', 'P4', 'O1',\n",
    "    'O2', 'F7', 'F8', 'T3', 'T4', 'T5', 'T6','Fz', 'Cz', 'Pz',\n",
    "    'A1', 'A2'\n",
    "]"
   ]
  },
  {
   "cell_type": "code",
   "execution_count": 4,
   "metadata": {},
   "outputs": [],
   "source": [
    "# Create partial function to set dataset parameters common to all preprocessing pipelines\n",
    "make_tuab_config = partial(proc.make_config, bids_root=Path(cfg[\"DATASETS\"][\"TUAB\"][\"bids_root\"]), session='001', run='001', tasks=['rest'], notch_filter_freq=60, analyze_channels=eeg_channels)"
   ]
  },
  {
   "cell_type": "code",
   "execution_count": 6,
   "metadata": {},
   "outputs": [],
   "source": [
    "# Setup Dask Cluster\n",
    "#\n",
    "# Note: Feel free to configure your own dask cluster if you have access\n",
    "# to more computatial resources. For example an LSFCluster:\n",
    "#  \n",
    "# cluster = LSFCluster(\n",
    "#     queue=\"short\",\n",
    "#     nanny=False,\n",
    "#     maximum_jobs=1000,\n",
    "# )\n",
    "\n",
    "cluster = LocalCluster()\n",
    "client = Client(cluster)"
   ]
  },
  {
   "cell_type": "markdown",
   "metadata": {},
   "source": [
    "## Preprocessing and Feature Computation with Different Pipelines"
   ]
  },
  {
   "cell_type": "code",
   "execution_count": 6,
   "metadata": {},
   "outputs": [],
   "source": [
    "# Minimal\n",
    "pipeline = Pipeline([\n",
    "    proc.read_raw_bids_root,\n",
    "    proc.crop,\n",
    "    proc.filter,\n",
    "    proc.resample,\n",
    "    proc.make_epochs,\n",
    "    proc.select_channels,\n",
    "    proc.set_eeg_reference,\n",
    "    proc.save_epochs,\n",
    "    proc.compute_meeglet_features,\n",
    "    proc.save_features\n",
    "])\n",
    "\n",
    "output_dir = Path(cfg[\"DATASETS\"][\"TUAB\"][\"deriv_root\"]) / 'preproc_minimal'\n",
    "output_dir.mkdir(parents=True, exist_ok=True)\n",
    "\n",
    "configs = [make_tuab_config(sub, deriv_root=output_dir) for sub in subjects]\n",
    "\n",
    "fire_and_forget(client.map(pipeline, configs))"
   ]
  },
  {
   "cell_type": "code",
   "execution_count": 8,
   "metadata": {},
   "outputs": [],
   "source": [
    "# Autoreject\n",
    "pipeline = Pipeline([\n",
    "    proc.read_raw_bids_root,\n",
    "    proc.crop,\n",
    "    proc.filter,\n",
    "    proc.resample,\n",
    "    proc.make_epochs,\n",
    "    proc.select_channels,\n",
    "    proc.compute_auto_reject,\n",
    "    proc.set_eeg_reference,\n",
    "    proc.save_epochs,\n",
    "    proc.compute_meeglet_features,\n",
    "    proc.save_features\n",
    "])\n",
    "\n",
    "output_dir = Path(cfg[\"DATASETS\"][\"TUAB\"][\"deriv_root\"]) / 'preproc_autoreject'\n",
    "output_dir.mkdir(parents=True, exist_ok=True)\n",
    "\n",
    "configs = [make_tuab_config(sub, deriv_root=output_dir) for sub in subjects]\n",
    "\n",
    "fire_and_forget(client.map(pipeline, configs))"
   ]
  },
  {
   "cell_type": "code",
   "execution_count": 9,
   "metadata": {},
   "outputs": [],
   "source": [
    "# Autoreject + ICA\n",
    "pipeline = Pipeline([\n",
    "    proc.read_raw_bids_root,\n",
    "    proc.crop,\n",
    "    proc.filter,\n",
    "    proc.resample,\n",
    "    proc.make_epochs,\n",
    "    proc.select_channels,\n",
    "    proc.compute_auto_reject,\n",
    "    proc.apply_ica,\n",
    "    proc.set_eeg_reference,\n",
    "    proc.save_epochs,\n",
    "    proc.compute_meeglet_features,\n",
    "    proc.save_features\n",
    "])\n",
    "\n",
    "output_dir = Path(cfg[\"DATASETS\"][\"TUAB\"][\"deriv_root\"]) / 'preproc_autoreject_ica'\n",
    "output_dir.mkdir(parents=True, exist_ok=True)\n",
    "\n",
    "configs = [make_tuab_config(sub, deriv_root=output_dir) for sub in subjects]\n",
    "\n",
    "fire_and_forget(client.map(pipeline, configs))"
   ]
  },
  {
   "cell_type": "code",
   "execution_count": 10,
   "metadata": {},
   "outputs": [],
   "source": [
    "# Artifact ICA subspace (all)\n",
    "pipeline = Pipeline([\n",
    "    proc.read_raw_bids_root,\n",
    "    proc.crop,\n",
    "    proc.filter,\n",
    "    proc.resample,\n",
    "    proc.make_epochs,\n",
    "    proc.select_channels,\n",
    "    proc.compute_auto_reject,\n",
    "    proc.apply_ica,\n",
    "    proc.set_eeg_reference,\n",
    "    proc.save_epochs,\n",
    "    proc.compute_meeglet_features,\n",
    "    proc.save_features\n",
    "])\n",
    "\n",
    "output_dir = Path(cfg[\"DATASETS\"][\"TUAB\"][\"deriv_root\"]) / 'ica_artifact_subspace'\n",
    "output_dir.mkdir(parents=True, exist_ok=True)\n",
    "\n",
    "configs = [make_tuab_config(sub, deriv_root=output_dir, ic_rejection_criterion=\"keep_artifacts\") for sub in subjects]\n",
    "\n",
    "fire_and_forget(client.map(pipeline, configs))"
   ]
  },
  {
   "cell_type": "code",
   "execution_count": 11,
   "metadata": {},
   "outputs": [],
   "source": [
    "# Artifact ICA subspace (ocular)\n",
    "pipeline = Pipeline([\n",
    "    proc.read_raw_bids_root,\n",
    "    proc.crop,\n",
    "    proc.filter,\n",
    "    proc.resample,\n",
    "    proc.make_epochs,\n",
    "    proc.select_channels,\n",
    "    proc.compute_auto_reject,\n",
    "    proc.apply_ica,\n",
    "    proc.set_eeg_reference,\n",
    "    proc.save_epochs,\n",
    "    proc.compute_meeglet_features,\n",
    "    proc.save_features\n",
    "])\n",
    "\n",
    "output_dir = Path(cfg[\"DATASETS\"][\"TUAB\"][\"deriv_root\"]) / 'ica_ocular_artifact_subspace'\n",
    "output_dir.mkdir(parents=True, exist_ok=True)\n",
    "\n",
    "configs = [make_tuab_config(sub, deriv_root=output_dir, ic_rejection_criterion=\"keep_ocular_artifacts\") for sub in subjects]\n",
    "\n",
    "fire_and_forget(client.map(pipeline, configs))"
   ]
  },
  {
   "cell_type": "code",
   "execution_count": 12,
   "metadata": {},
   "outputs": [],
   "source": [
    "# Artifact ICA subspace (muscle)\n",
    "pipeline = Pipeline([\n",
    "    proc.read_raw_bids_root,\n",
    "    proc.crop,\n",
    "    proc.filter,\n",
    "    proc.resample,\n",
    "    proc.make_epochs,\n",
    "    proc.select_channels,\n",
    "    proc.compute_auto_reject,\n",
    "    proc.apply_ica,\n",
    "    proc.set_eeg_reference,\n",
    "    proc.save_epochs,\n",
    "    proc.compute_meeglet_features,\n",
    "    proc.save_features\n",
    "])\n",
    "\n",
    "output_dir = Path(cfg[\"DATASETS\"][\"TUAB\"][\"deriv_root\"]) / 'ica_muscle_artifact_subspace'\n",
    "output_dir.mkdir(parents=True, exist_ok=True)\n",
    "\n",
    "configs = [make_tuab_config(sub, deriv_root=output_dir, ic_rejection_criterion=\"keep_muscle_artifacts\") for sub in subjects]\n",
    "\n",
    "fire_and_forget(client.map(pipeline, configs))"
   ]
  },
  {
   "cell_type": "code",
   "execution_count": 13,
   "metadata": {},
   "outputs": [],
   "source": [
    "# Artifact ICA subspace (other)\n",
    "pipeline = Pipeline([\n",
    "    proc.read_raw_bids_root,\n",
    "    proc.crop,\n",
    "    proc.filter,\n",
    "    proc.resample,\n",
    "    proc.make_epochs,\n",
    "    proc.select_channels,\n",
    "    proc.compute_auto_reject,\n",
    "    proc.apply_ica,\n",
    "    proc.set_eeg_reference,\n",
    "    proc.save_epochs,\n",
    "    proc.compute_meeglet_features,\n",
    "    proc.save_features\n",
    "])\n",
    "\n",
    "output_dir = Path(cfg[\"DATASETS\"][\"TUAB\"][\"deriv_root\"]) / 'ica_other_artifact_subspace'\n",
    "output_dir.mkdir(parents=True, exist_ok=True)\n",
    "\n",
    "configs = [make_tuab_config(sub, deriv_root=output_dir, ic_rejection_criterion=\"keep_other_artifacts\") for sub in subjects]\n",
    "\n",
    "fire_and_forget(client.map(pipeline, configs))"
   ]
  }
 ],
 "metadata": {
  "kernelspec": {
   "display_name": "eeg-biomarker-paper",
   "language": "python",
   "name": "python3"
  },
  "language_info": {
   "codemirror_mode": {
    "name": "ipython",
    "version": 3
   },
   "file_extension": ".py",
   "mimetype": "text/x-python",
   "name": "python",
   "nbconvert_exporter": "python",
   "pygments_lexer": "ipython3",
   "version": "3.10.14"
  }
 },
 "nbformat": 4,
 "nbformat_minor": 2
}
